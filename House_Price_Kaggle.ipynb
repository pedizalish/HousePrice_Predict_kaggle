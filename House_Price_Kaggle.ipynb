{
 "cells": [
  {
   "cell_type": "code",
   "execution_count": 26,
   "id": "dcff375f",
   "metadata": {},
   "outputs": [],
   "source": [
    "import pandas as pd\n",
    "import numpy as np\n",
    "import matplotlib.pyplot as plt\n",
    "from scipy.stats import pearsonr\n",
    "from scipy.stats import f_oneway\n",
    "import seaborn as sns\n",
    "from sklearn.preprocessing import PolynomialFeatures\n",
    "from sklearn.linear_model import LinearRegression\n",
    "import math\n",
    "from sklearn.metrics import mean_squared_error"
   ]
  },
  {
   "cell_type": "code",
   "execution_count": 2,
   "id": "94fb8eac",
   "metadata": {},
   "outputs": [],
   "source": [
    "path = r'C:\\Users\\User\\Desktop\\Excel\\train.csv'\n",
    "df_train = pd.read_csv(path)"
   ]
  },
  {
   "cell_type": "code",
   "execution_count": 3,
   "id": "cefc5cdd",
   "metadata": {},
   "outputs": [],
   "source": [
    "df_train = pd.DataFrame(df_train)"
   ]
  },
  {
   "cell_type": "code",
   "execution_count": 4,
   "id": "d7b783c4",
   "metadata": {},
   "outputs": [],
   "source": [
    "column_names = df_train.columns\n",
    "for column_name in column_names:\n",
    "    if df_train[column_name].isna().sum() > len(df_train[column_name])/2 :\n",
    "        df_train = df_train.drop(column_name,axis=1)"
   ]
  },
  {
   "cell_type": "code",
   "execution_count": 5,
   "id": "a68bedf7",
   "metadata": {},
   "outputs": [],
   "source": [
    "column_names_new = df_train.columns\n",
    "for column_name in column_names_new:\n",
    "    if isinstance(type(df_train[column_name]),float or int):\n",
    "        df_train[column_name] = df_train[column_name].replace(np.nan,df_train[column_name].mean())\n",
    "    if isinstance(type(df_train[column_name]),object):\n",
    "        df_train[column_name] = df_train[column_name].replace(np.nan,df_train[column_name].value_counts().idxmax())"
   ]
  },
  {
   "cell_type": "code",
   "execution_count": null,
   "id": "52f1fbe8",
   "metadata": {},
   "outputs": [],
   "source": [
    "df_train.describe(include='all')"
   ]
  },
  {
   "cell_type": "code",
   "execution_count": 7,
   "id": "bc63a3a6",
   "metadata": {},
   "outputs": [],
   "source": [
    "df_train['LotArea'] = (df_train['LotArea'] - df_train['LotArea'].mean()) / df_train['LotArea'].std()\n",
    "df_train['YearBuilt'] = (df_train['YearBuilt'] - df_train['YearBuilt'].mean()) / df_train['YearBuilt'].std()\n",
    "df_train['YearRemodAdd'] = (df_train['YearRemodAdd'] - df_train['YearRemodAdd'].mean()) / df_train['YearRemodAdd'].std()\n",
    "df_train['BsmtUnfSF'] = (df_train['BsmtUnfSF'] - df_train['BsmtUnfSF'].mean()) / df_train['BsmtUnfSF'].std()\n",
    "df_train['1stFlrSF'] = (df_train['1stFlrSF'] - df_train['1stFlrSF'].mean()) / df_train['1stFlrSF'].std()\n",
    "df_train['2ndFlrSF'] = (df_train['2ndFlrSF'] - df_train['2ndFlrSF'].mean()) / df_train['2ndFlrSF'].std()\n",
    "df_train['GrLivArea'] = (df_train['GrLivArea'] - df_train['GrLivArea'].mean()) / df_train['GrLivArea'].std()\n",
    "df_train['GarageArea'] = (df_train['GarageArea'] - df_train['GarageArea'].mean()) / df_train['GarageArea'].std()"
   ]
  },
  {
   "cell_type": "code",
   "execution_count": 8,
   "id": "bb6ccca5",
   "metadata": {},
   "outputs": [],
   "source": [
    "object_column = []\n",
    "for column_name in column_names_new:\n",
    "    if df_train[column_name].dtypes == object :\n",
    "        object_column.append(column_name)\n",
    "df_train = pd.get_dummies(df_train,columns=object_column)"
   ]
  },
  {
   "cell_type": "code",
   "execution_count": 9,
   "id": "e499aa21",
   "metadata": {},
   "outputs": [],
   "source": [
    "X = []\n",
    "for column_name in df_train.columns:\n",
    "    if column_name == 'SalePrice':\n",
    "        Y_train = df_train[column_name]\n",
    "    else:\n",
    "        X.append(column_name)"
   ]
  },
  {
   "cell_type": "code",
   "execution_count": 10,
   "id": "3dd5e4e7",
   "metadata": {},
   "outputs": [],
   "source": [
    "X_train = []\n",
    "for x in X:\n",
    "    pearson_coef , p_value = pearsonr(df_train[x],Y_train)\n",
    "    if -1 < pearson_coef < 1 and p_value < 0.001 :\n",
    "        X_train.append(x)"
   ]
  },
  {
   "cell_type": "code",
   "execution_count": null,
   "id": "455acdc7",
   "metadata": {},
   "outputs": [],
   "source": [
    "corr = df_train[X_train].corr()\n",
    "sns.heatmap(corr)"
   ]
  },
  {
   "cell_type": "code",
   "execution_count": 12,
   "id": "89ce32f7",
   "metadata": {},
   "outputs": [],
   "source": [
    "for i in range(len(X_train)):\n",
    "    for j in range(i+1,len(X_train)):\n",
    "        covariance = df_train[X_train[i]].corr(df_train[X_train[j]])\n",
    "        if covariance < -0.4 or covariance > 0.4 :\n",
    "            del(X_train[i])\n",
    "            break"
   ]
  },
  {
   "cell_type": "code",
   "execution_count": null,
   "id": "92fdd756",
   "metadata": {},
   "outputs": [],
   "source": [
    "def max_coef(list,n):\n",
    "    final_list = []\n",
    "    for i in range(n):\n",
    "        another_list = list\n",
    "        max1 = -100\n",
    "        for j in range(len(another_list)):\n",
    "            pearson_coef , p_value = pearsonr(df_train[another_list[j]],Y_train)\n",
    "            if pearson_coef > max1 :\n",
    "                max1 = pearson_coef\n",
    "                k = j\n",
    "        final_list.append(another_list[k])\n",
    "        del(another_list[k])\n",
    "    return final_list\n",
    "\n",
    "selected_X_train = max_coef(X_train,10)\n",
    "print(selected_X_train)\n",
    "X_train = X_train + selected_X_train\n",
    "df_train = df_train + df_train[selected_X_train]"
   ]
  },
  {
   "cell_type": "code",
   "execution_count": null,
   "id": "8e683631",
   "metadata": {},
   "outputs": [],
   "source": [
    "poly = PolynomialFeatures(degree=3,include_bias=False)\n",
    "X_train_poly = poly.fit_transform(df_train[selected_X_train])\n",
    "lr = LinearRegression()\n",
    "lr.fit(X_train_poly,Y_train)"
   ]
  },
  {
   "cell_type": "code",
   "execution_count": 15,
   "id": "8574178a",
   "metadata": {},
   "outputs": [],
   "source": [
    "path2 = r'C:\\Users\\User\\Desktop\\Excel\\test.csv'\n",
    "df_test = pd.read_csv(path2)"
   ]
  },
  {
   "cell_type": "code",
   "execution_count": 16,
   "id": "82aa910c",
   "metadata": {},
   "outputs": [],
   "source": [
    "df_test = pd.DataFrame(df_test)"
   ]
  },
  {
   "cell_type": "code",
   "execution_count": 17,
   "id": "35228e89",
   "metadata": {},
   "outputs": [],
   "source": [
    "column_names_new = df_test.columns\n",
    "for column_name in column_names_new:\n",
    "    if isinstance(type(df_test[column_name]),float or int):\n",
    "        df_test[column_name] = df_test[column_name].replace(np.nan,df_test[column_name].mean())\n",
    "    if isinstance(type(df_test[column_name]),object):\n",
    "        df_test[column_name] = df_test[column_name].replace(np.nan,df_test[column_name].value_counts().idxmax())"
   ]
  },
  {
   "cell_type": "code",
   "execution_count": 18,
   "id": "f0e59e6f",
   "metadata": {},
   "outputs": [],
   "source": [
    "not_standard_columns = ['LotArea','YearBuilt','YearRemodAdd','BsmtUnfSF','1stFlrSF','2ndFlrSF','GrLivArea','GarageArea']\n",
    "for column in not_standard_columns:\n",
    "    df_test[column] = (df_test[column] - df_test[column].mean()) / df_test[column].std()"
   ]
  },
  {
   "cell_type": "code",
   "execution_count": 19,
   "id": "471a711a",
   "metadata": {},
   "outputs": [],
   "source": [
    "object_column = []\n",
    "for column_name in df_test.columns:\n",
    "    if df_test[column_name].dtypes == object :\n",
    "        object_column.append(column_name)\n",
    "df_test = pd.get_dummies(df_test,columns=object_column)"
   ]
  },
  {
   "cell_type": "code",
   "execution_count": 20,
   "id": "61b1d158",
   "metadata": {},
   "outputs": [],
   "source": [
    "yhat = lr.predict(poly.fit_transform(df_test[selected_X_train]))"
   ]
  },
  {
   "cell_type": "code",
   "execution_count": 21,
   "id": "aeb86188",
   "metadata": {},
   "outputs": [],
   "source": [
    "Predict_values = {'Id':df_test['Id'],'SalePrice':yhat}\n",
    "df_predict = pd.DataFrame(Predict_values)"
   ]
  },
  {
   "cell_type": "code",
   "execution_count": 22,
   "id": "b623dd66",
   "metadata": {},
   "outputs": [],
   "source": [
    "csv_path = r'C:\\Users\\User\\Desktop\\Excel\\Predict_SalePrice.csv'\n",
    "df_predict.to_csv(csv_path)"
   ]
  },
  {
   "cell_type": "code",
   "execution_count": 24,
   "id": "2703aa8b",
   "metadata": {},
   "outputs": [],
   "source": [
    "path3 = r'C:\\Users\\User\\Desktop\\Excel\\sample_submission.csv'\n",
    "df_sample = pd.read_csv(path3)\n",
    "df_sample = pd.DataFrame(df_sample)"
   ]
  },
  {
   "cell_type": "code",
   "execution_count": null,
   "id": "36e893c4",
   "metadata": {},
   "outputs": [],
   "source": [
    "MSE = mean_squared_error(np.log(df_sample['SalePrice']),np.log(yhat))\n",
    "RMSE = math.sqrt(MSE)\n",
    "RMSE"
   ]
  }
 ],
 "metadata": {
  "kernelspec": {
   "display_name": "Python 3 (ipykernel)",
   "language": "python",
   "name": "python3"
  },
  "language_info": {
   "codemirror_mode": {
    "name": "ipython",
    "version": 3
   },
   "file_extension": ".py",
   "mimetype": "text/x-python",
   "name": "python",
   "nbconvert_exporter": "python",
   "pygments_lexer": "ipython3",
   "version": "3.10.2"
  }
 },
 "nbformat": 4,
 "nbformat_minor": 5
}
